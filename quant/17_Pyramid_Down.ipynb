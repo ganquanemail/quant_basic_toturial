{
 "cells": [
  {
   "cell_type": "code",
   "execution_count": 1,
   "metadata": {},
   "outputs": [],
   "source": [
    "import pandas as pd\n",
    "import numpy as np\n",
    "import matplotlib.pyplot as plt\n",
    "%matplotlib inline"
   ]
  },
  {
   "cell_type": "code",
   "execution_count": 2,
   "metadata": {},
   "outputs": [
    {
     "data": {
      "text/html": [
       "<div>\n",
       "<style scoped>\n",
       "    .dataframe tbody tr th:only-of-type {\n",
       "        vertical-align: middle;\n",
       "    }\n",
       "\n",
       "    .dataframe tbody tr th {\n",
       "        vertical-align: top;\n",
       "    }\n",
       "\n",
       "    .dataframe thead th {\n",
       "        text-align: right;\n",
       "    }\n",
       "</style>\n",
       "<table border=\"1\" class=\"dataframe\">\n",
       "  <thead>\n",
       "    <tr style=\"text-align: right;\">\n",
       "      <th></th>\n",
       "      <th>Price</th>\n",
       "    </tr>\n",
       "    <tr>\n",
       "      <th>Date</th>\n",
       "      <th></th>\n",
       "    </tr>\n",
       "  </thead>\n",
       "  <tbody>\n",
       "    <tr>\n",
       "      <th>2016-03-31</th>\n",
       "      <td>22.43</td>\n",
       "    </tr>\n",
       "    <tr>\n",
       "      <th>2016-04-01</th>\n",
       "      <td>22.28</td>\n",
       "    </tr>\n",
       "    <tr>\n",
       "      <th>2016-04-06</th>\n",
       "      <td>22.08</td>\n",
       "    </tr>\n",
       "    <tr>\n",
       "      <th>2016-04-07</th>\n",
       "      <td>22.03</td>\n",
       "    </tr>\n",
       "    <tr>\n",
       "      <th>2016-04-08</th>\n",
       "      <td>21.95</td>\n",
       "    </tr>\n",
       "  </tbody>\n",
       "</table>\n",
       "</div>"
      ],
      "text/plain": [
       "            Price\n",
       "Date             \n",
       "2016-03-31  22.43\n",
       "2016-04-01  22.28\n",
       "2016-04-06  22.08\n",
       "2016-04-07  22.03\n",
       "2016-04-08  21.95"
      ]
     },
     "execution_count": 2,
     "metadata": {},
     "output_type": "execute_result"
    }
   ],
   "source": [
    "data=pd.read_csv('0056_PR.csv')\n",
    "data.set_index(pd.to_datetime(data['Date']),inplace=True)\n",
    "data.drop('Date',axis=1,inplace=True)\n",
    "data.head()"
   ]
  },
  {
   "cell_type": "code",
   "execution_count": 3,
   "metadata": {},
   "outputs": [
    {
     "data": {
      "text/plain": [
       "<matplotlib.axes._subplots.AxesSubplot at 0x23a584d9d68>"
      ]
     },
     "execution_count": 3,
     "metadata": {},
     "output_type": "execute_result"
    },
    {
     "data": {
      "image/png": "[encoded data removed]",
      "text/plain": [
       "<Figure size 432x288 with 1 Axes>"
      ]
     },
     "metadata": {
      "needs_background": "light"
     },
     "output_type": "display_data"
    }
   ],
   "source": [
    "data.plot()"
   ]
  },
  {
   "cell_type": "code",
   "execution_count": 4,
   "metadata": {},
   "outputs": [],
   "source": [
    "base=1\n",
    "down=-0.1\n",
    "N=2\n",
    "\n",
    "start='2016-03-31'\n",
    "end='2021-03-31'"
   ]
  },
  {
   "cell_type": "code",
   "execution_count": 5,
   "metadata": {},
   "outputs": [
    {
     "name": "stderr",
     "output_type": "stream",
     "text": [
      "C:\\Users\\tinah\\Anaconda3\\lib\\site-packages\\pandas\\compat\\_optional.py:106: UserWarning: Pandas requires version '2.6.2' or newer of 'numexpr' (version '2.6.1' currently installed).\n",
      "  warnings.warn(msg, UserWarning)\n"
     ]
    },
    {
     "data": {
      "text/html": [
       "<div>\n",
       "<style scoped>\n",
       "    .dataframe tbody tr th:only-of-type {\n",
       "        vertical-align: middle;\n",
       "    }\n",
       "\n",
       "    .dataframe tbody tr th {\n",
       "        vertical-align: top;\n",
       "    }\n",
       "\n",
       "    .dataframe thead th {\n",
       "        text-align: right;\n",
       "    }\n",
       "</style>\n",
       "<table border=\"1\" class=\"dataframe\">\n",
       "  <thead>\n",
       "    <tr style=\"text-align: right;\">\n",
       "      <th></th>\n",
       "      <th>Price</th>\n",
       "      <th>dr</th>\n",
       "      <th>r</th>\n",
       "      <th>dd</th>\n",
       "    </tr>\n",
       "    <tr>\n",
       "      <th>Date</th>\n",
       "      <th></th>\n",
       "      <th></th>\n",
       "      <th></th>\n",
       "      <th></th>\n",
       "    </tr>\n",
       "  </thead>\n",
       "  <tbody>\n",
       "    <tr>\n",
       "      <th>2016-03-31</th>\n",
       "      <td>22.43</td>\n",
       "      <td>NaN</td>\n",
       "      <td>NaN</td>\n",
       "      <td>NaN</td>\n",
       "    </tr>\n",
       "    <tr>\n",
       "      <th>2016-04-01</th>\n",
       "      <td>22.28</td>\n",
       "      <td>-0.006687</td>\n",
       "      <td>0.993313</td>\n",
       "      <td>0.000000</td>\n",
       "    </tr>\n",
       "    <tr>\n",
       "      <th>2016-04-06</th>\n",
       "      <td>22.08</td>\n",
       "      <td>-0.008977</td>\n",
       "      <td>0.984396</td>\n",
       "      <td>-0.008977</td>\n",
       "    </tr>\n",
       "    <tr>\n",
       "      <th>2016-04-07</th>\n",
       "      <td>22.03</td>\n",
       "      <td>-0.002264</td>\n",
       "      <td>0.982167</td>\n",
       "      <td>-0.011221</td>\n",
       "    </tr>\n",
       "    <tr>\n",
       "      <th>2016-04-08</th>\n",
       "      <td>21.95</td>\n",
       "      <td>-0.003631</td>\n",
       "      <td>0.978600</td>\n",
       "      <td>-0.014811</td>\n",
       "    </tr>\n",
       "  </tbody>\n",
       "</table>\n",
       "</div>"
      ],
      "text/plain": [
       "            Price        dr         r        dd\n",
       "Date                                           \n",
       "2016-03-31  22.43       NaN       NaN       NaN\n",
       "2016-04-01  22.28 -0.006687  0.993313  0.000000\n",
       "2016-04-06  22.08 -0.008977  0.984396 -0.008977\n",
       "2016-04-07  22.03 -0.002264  0.982167 -0.011221\n",
       "2016-04-08  21.95 -0.003631  0.978600 -0.014811"
      ]
     },
     "execution_count": 5,
     "metadata": {},
     "output_type": "execute_result"
    }
   ],
   "source": [
    "df=data.copy()\n",
    "df=df.loc[start:end]\n",
    "\n",
    "df['dr']=df.pct_change(1)\n",
    "df['r']=df['dr'].add(1).cumprod()\n",
    "df['dd']=df['r'].div(df['r'].cummax()).sub(1)\n",
    "df.head()"
   ]
  },
  {
   "cell_type": "markdown",
   "metadata": {},
   "source": [
    "# 打造正金字塔部位"
   ]
  },
  {
   "cell_type": "code",
   "execution_count": 6,
   "metadata": {},
   "outputs": [],
   "source": [
    "total_cost_list=[]\n",
    "unit_list=[]\n",
    "pre_NAV_list=[0]\n",
    "TR_list=[0]\n",
    "unit_add=0\n",
    "\n",
    "for i,price in enumerate(df['Price']):\n",
    "    if i==0:\n",
    "        unit=base\n",
    "        total_cost=unit*price\n",
    "        unit_list.append(unit)\n",
    "        total_cost_list.append(total_cost)\n",
    "    else:\n",
    "        if df['dd'].iloc[i]<down*3 and df['dd'].iloc[i-1]>down*3 and unit_add<N*3:\n",
    "            unit=unit+N*3\n",
    "            total_cost+=N*3*price\n",
    "            unit_add=N*3\n",
    "        elif df['dd'].iloc[i]<down*2 and df['dd'].iloc[i-1]>down*2 and unit_add<N*2:\n",
    "            unit=unit+N*2\n",
    "            total_cost+=N*2*price\n",
    "            unit_add=N*2\n",
    "        elif df['dd'].iloc[i]<down and df['dd'].iloc[i-1]>down and unit_add<N:\n",
    "            unit=unit+N\n",
    "            total_cost+=N*price\n",
    "            unit_add=N\n",
    "        pre_NAV=unit_list[i-1]*price\n",
    "        TR=pre_NAV/total_cost_list[-1]-1\n",
    "        total_cost_list.append(total_cost)\n",
    "        unit_list.append(unit)\n",
    "        pre_NAV_list.append(pre_NAV)\n",
    "        TR_list.append(TR)\n",
    "        \n",
    "\n",
    "df['total_cost']=total_cost_list\n",
    "df['unit']=unit_list\n",
    "df['pre_NAV']=pre_NAV_list\n",
    "df['total_return']=TR_list"
   ]
  },
  {
   "cell_type": "code",
   "execution_count": 7,
   "metadata": {},
   "outputs": [
    {
     "data": {
      "text/html": [
       "<div>\n",
       "<style scoped>\n",
       "    .dataframe tbody tr th:only-of-type {\n",
       "        vertical-align: middle;\n",
       "    }\n",
       "\n",
       "    .dataframe tbody tr th {\n",
       "        vertical-align: top;\n",
       "    }\n",
       "\n",
       "    .dataframe thead th {\n",
       "        text-align: right;\n",
       "    }\n",
       "</style>\n",
       "<table border=\"1\" class=\"dataframe\">\n",
       "  <thead>\n",
       "    <tr style=\"text-align: right;\">\n",
       "      <th></th>\n",
       "      <th>Price</th>\n",
       "      <th>dr</th>\n",
       "      <th>r</th>\n",
       "      <th>dd</th>\n",
       "      <th>total_cost</th>\n",
       "      <th>unit</th>\n",
       "      <th>pre_NAV</th>\n",
       "      <th>total_return</th>\n",
       "    </tr>\n",
       "    <tr>\n",
       "      <th>Date</th>\n",
       "      <th></th>\n",
       "      <th></th>\n",
       "      <th></th>\n",
       "      <th></th>\n",
       "      <th></th>\n",
       "      <th></th>\n",
       "      <th></th>\n",
       "      <th></th>\n",
       "    </tr>\n",
       "  </thead>\n",
       "  <tbody>\n",
       "    <tr>\n",
       "      <th>2021-03-25</th>\n",
       "      <td>33.66</td>\n",
       "      <td>0.000297</td>\n",
       "      <td>1.500669</td>\n",
       "      <td>0.0</td>\n",
       "      <td>161.03</td>\n",
       "      <td>7</td>\n",
       "      <td>235.62</td>\n",
       "      <td>0.463206</td>\n",
       "    </tr>\n",
       "    <tr>\n",
       "      <th>2021-03-26</th>\n",
       "      <td>33.80</td>\n",
       "      <td>0.004159</td>\n",
       "      <td>1.506910</td>\n",
       "      <td>0.0</td>\n",
       "      <td>161.03</td>\n",
       "      <td>7</td>\n",
       "      <td>236.60</td>\n",
       "      <td>0.469291</td>\n",
       "    </tr>\n",
       "    <tr>\n",
       "      <th>2021-03-29</th>\n",
       "      <td>34.34</td>\n",
       "      <td>0.015976</td>\n",
       "      <td>1.530985</td>\n",
       "      <td>0.0</td>\n",
       "      <td>161.03</td>\n",
       "      <td>7</td>\n",
       "      <td>240.38</td>\n",
       "      <td>0.492765</td>\n",
       "    </tr>\n",
       "    <tr>\n",
       "      <th>2021-03-30</th>\n",
       "      <td>34.60</td>\n",
       "      <td>0.007571</td>\n",
       "      <td>1.542577</td>\n",
       "      <td>0.0</td>\n",
       "      <td>161.03</td>\n",
       "      <td>7</td>\n",
       "      <td>242.20</td>\n",
       "      <td>0.504068</td>\n",
       "    </tr>\n",
       "    <tr>\n",
       "      <th>2021-03-31</th>\n",
       "      <td>34.63</td>\n",
       "      <td>0.000867</td>\n",
       "      <td>1.543914</td>\n",
       "      <td>0.0</td>\n",
       "      <td>161.03</td>\n",
       "      <td>7</td>\n",
       "      <td>242.41</td>\n",
       "      <td>0.505372</td>\n",
       "    </tr>\n",
       "  </tbody>\n",
       "</table>\n",
       "</div>"
      ],
      "text/plain": [
       "            Price        dr         r   dd  total_cost  unit  pre_NAV  \\\n",
       "Date                                                                    \n",
       "2021-03-25  33.66  0.000297  1.500669  0.0      161.03     7   235.62   \n",
       "2021-03-26  33.80  0.004159  1.506910  0.0      161.03     7   236.60   \n",
       "2021-03-29  34.34  0.015976  1.530985  0.0      161.03     7   240.38   \n",
       "2021-03-30  34.60  0.007571  1.542577  0.0      161.03     7   242.20   \n",
       "2021-03-31  34.63  0.000867  1.543914  0.0      161.03     7   242.41   \n",
       "\n",
       "            total_return  \n",
       "Date                      \n",
       "2021-03-25      0.463206  \n",
       "2021-03-26      0.469291  \n",
       "2021-03-29      0.492765  \n",
       "2021-03-30      0.504068  \n",
       "2021-03-31      0.505372  "
      ]
     },
     "execution_count": 7,
     "metadata": {},
     "output_type": "execute_result"
    }
   ],
   "source": [
    "df.tail()"
   ]
  },
  {
   "cell_type": "code",
   "execution_count": 8,
   "metadata": {},
   "outputs": [
    {
     "data": {
      "image/png": "[encoded data removed]",
      "text/plain": [
       "<Figure size 720x360 with 1 Axes>"
      ]
     },
     "metadata": {
      "needs_background": "light"
     },
     "output_type": "display_data"
    }
   ],
   "source": [
    "fig,ax=plt.subplots(figsize=(10,5))\n",
    "ax.plot(df['total_return'])\n",
    "plt.xticks(fontsize=15)\n",
    "plt.yticks(fontsize=15)\n",
    "plt.show()"
   ]
  },
  {
   "cell_type": "markdown",
   "metadata": {},
   "source": [
    "# 增加進場次數"
   ]
  },
  {
   "cell_type": "code",
   "execution_count": 9,
   "metadata": {},
   "outputs": [],
   "source": [
    "total_cost_list=[]\n",
    "unit_list=[]\n",
    "pre_NAV_list=[0]\n",
    "TR_list=[0]\n",
    "unit_add=0\n",
    "maxr=df['r'].iloc[1]\n",
    "\n",
    "for i,price in enumerate(df['Price']):\n",
    "    if i==0:\n",
    "        unit=base\n",
    "        total_cost=unit*price\n",
    "        unit_list.append(unit)\n",
    "        total_cost_list.append(total_cost)\n",
    "    else:\n",
    "        if df['r'].iloc[i]>maxr:\n",
    "            maxr=df['r'].iloc[i]\n",
    "            unit_add=0\n",
    "        else:\n",
    "            if df['dd'].iloc[i]<down*3 and df['dd'].iloc[i-1]>down*3 and unit_add<N*3:\n",
    "                unit=unit+N*3\n",
    "                total_cost+=N*3*price\n",
    "                unit_add=N*3\n",
    "            elif df['dd'].iloc[i]<down*2 and df['dd'].iloc[i-1]>down*2 and unit_add<N*2:\n",
    "                unit=unit+N*2\n",
    "                total_cost+=N*2*price\n",
    "                unit_add=N*2\n",
    "            elif df['dd'].iloc[i]<down and df['dd'].iloc[i-1]>down and unit_add<N:\n",
    "                unit=unit+N\n",
    "                total_cost+=N*price\n",
    "                unit_add=N\n",
    "        pre_NAV=unit_list[i-1]*price\n",
    "        TR=pre_NAV/total_cost_list[-1]-1\n",
    "        total_cost_list.append(total_cost)\n",
    "        unit_list.append(unit)\n",
    "        pre_NAV_list.append(pre_NAV)\n",
    "        TR_list.append(TR)\n",
    "        \n",
    "\n",
    "df['total_cost']=total_cost_list\n",
    "df['unit']=unit_list\n",
    "df['pre_NAV']=pre_NAV_list\n",
    "df['total_return']=TR_list"
   ]
  },
  {
   "cell_type": "code",
   "execution_count": 10,
   "metadata": {},
   "outputs": [
    {
     "data": {
      "text/html": [
       "<div>\n",
       "<style scoped>\n",
       "    .dataframe tbody tr th:only-of-type {\n",
       "        vertical-align: middle;\n",
       "    }\n",
       "\n",
       "    .dataframe tbody tr th {\n",
       "        vertical-align: top;\n",
       "    }\n",
       "\n",
       "    .dataframe thead th {\n",
       "        text-align: right;\n",
       "    }\n",
       "</style>\n",
       "<table border=\"1\" class=\"dataframe\">\n",
       "  <thead>\n",
       "    <tr style=\"text-align: right;\">\n",
       "      <th></th>\n",
       "      <th>Price</th>\n",
       "      <th>dr</th>\n",
       "      <th>r</th>\n",
       "      <th>dd</th>\n",
       "      <th>total_cost</th>\n",
       "      <th>unit</th>\n",
       "      <th>pre_NAV</th>\n",
       "      <th>total_return</th>\n",
       "    </tr>\n",
       "    <tr>\n",
       "      <th>Date</th>\n",
       "      <th></th>\n",
       "      <th></th>\n",
       "      <th></th>\n",
       "      <th></th>\n",
       "      <th></th>\n",
       "      <th></th>\n",
       "      <th></th>\n",
       "      <th></th>\n",
       "    </tr>\n",
       "  </thead>\n",
       "  <tbody>\n",
       "    <tr>\n",
       "      <th>2021-03-25</th>\n",
       "      <td>33.66</td>\n",
       "      <td>0.000297</td>\n",
       "      <td>1.500669</td>\n",
       "      <td>0.0</td>\n",
       "      <td>318.31</td>\n",
       "      <td>13</td>\n",
       "      <td>437.58</td>\n",
       "      <td>0.374698</td>\n",
       "    </tr>\n",
       "    <tr>\n",
       "      <th>2021-03-26</th>\n",
       "      <td>33.80</td>\n",
       "      <td>0.004159</td>\n",
       "      <td>1.506910</td>\n",
       "      <td>0.0</td>\n",
       "      <td>318.31</td>\n",
       "      <td>13</td>\n",
       "      <td>439.40</td>\n",
       "      <td>0.380415</td>\n",
       "    </tr>\n",
       "    <tr>\n",
       "      <th>2021-03-29</th>\n",
       "      <td>34.34</td>\n",
       "      <td>0.015976</td>\n",
       "      <td>1.530985</td>\n",
       "      <td>0.0</td>\n",
       "      <td>318.31</td>\n",
       "      <td>13</td>\n",
       "      <td>446.42</td>\n",
       "      <td>0.402469</td>\n",
       "    </tr>\n",
       "    <tr>\n",
       "      <th>2021-03-30</th>\n",
       "      <td>34.60</td>\n",
       "      <td>0.007571</td>\n",
       "      <td>1.542577</td>\n",
       "      <td>0.0</td>\n",
       "      <td>318.31</td>\n",
       "      <td>13</td>\n",
       "      <td>449.80</td>\n",
       "      <td>0.413088</td>\n",
       "    </tr>\n",
       "    <tr>\n",
       "      <th>2021-03-31</th>\n",
       "      <td>34.63</td>\n",
       "      <td>0.000867</td>\n",
       "      <td>1.543914</td>\n",
       "      <td>0.0</td>\n",
       "      <td>318.31</td>\n",
       "      <td>13</td>\n",
       "      <td>450.19</td>\n",
       "      <td>0.414313</td>\n",
       "    </tr>\n",
       "  </tbody>\n",
       "</table>\n",
       "</div>"
      ],
      "text/plain": [
       "            Price        dr         r   dd  total_cost  unit  pre_NAV  \\\n",
       "Date                                                                    \n",
       "2021-03-25  33.66  0.000297  1.500669  0.0      318.31    13   437.58   \n",
       "2021-03-26  33.80  0.004159  1.506910  0.0      318.31    13   439.40   \n",
       "2021-03-29  34.34  0.015976  1.530985  0.0      318.31    13   446.42   \n",
       "2021-03-30  34.60  0.007571  1.542577  0.0      318.31    13   449.80   \n",
       "2021-03-31  34.63  0.000867  1.543914  0.0      318.31    13   450.19   \n",
       "\n",
       "            total_return  \n",
       "Date                      \n",
       "2021-03-25      0.374698  \n",
       "2021-03-26      0.380415  \n",
       "2021-03-29      0.402469  \n",
       "2021-03-30      0.413088  \n",
       "2021-03-31      0.414313  "
      ]
     },
     "execution_count": 10,
     "metadata": {},
     "output_type": "execute_result"
    }
   ],
   "source": [
    "df.tail()"
   ]
  },
  {
   "cell_type": "code",
   "execution_count": 11,
   "metadata": {},
   "outputs": [
    {
     "data": {
      "image/png": "[encoded data removed]",
      "text/plain": [
       "<Figure size 720x360 with 1 Axes>"
      ]
     },
     "metadata": {
      "needs_background": "light"
     },
     "output_type": "display_data"
    }
   ],
   "source": [
    "fig,ax=plt.subplots(figsize=(10,5))\n",
    "ax.plot(df['total_return'])\n",
    "plt.xticks(fontsize=15)\n",
    "plt.yticks(fontsize=15)\n",
    "plt.show()"
   ]
  },
  {
   "cell_type": "code",
   "execution_count": null,
   "metadata": {},
   "outputs": [],
   "source": []
  }
 ],
 "metadata": {
  "kernelspec": {
   "display_name": "Python 3",
   "language": "python",
   "name": "python3"
  },
  "language_info": {
   "codemirror_mode": {
    "name": "ipython",
    "version": 3
   },
   "file_extension": ".py",
   "mimetype": "text/x-python",
   "name": "python",
   "nbconvert_exporter": "python",
   "pygments_lexer": "ipython3",
   "version": "3.5.6"
  }
 },
 "nbformat": 4,
 "nbformat_minor": 2
}
